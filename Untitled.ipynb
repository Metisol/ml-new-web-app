{
 "cells": [
  {
   "cell_type": "code",
   "execution_count": 22,
   "id": "43eaac94-8bec-4311-a774-0834276e5dc6",
   "metadata": {},
   "outputs": [],
   "source": [
    "from fastapi import FastAPI\n",
    "\n",
    "\n",
    "from pydantic import BaseModel\n",
    "from typing import List\n",
    "import pandas as pd\n",
    "import numpy as np\n",
    "from app import PredictionRequest\n",
    "from sklearn.model_selection import train_test_split\n",
    "from sklearn.ensemble import RandomForestClassifier\n",
    "from sklearn.metrics import accuracy_score, confusion_matrix, classification_report\n",
    "import matplotlib.pyplot as plt\n",
    "import seaborn as sns\n",
    "import joblib\n",
    "\n",
    "\n",
    "\n",
    "\n",
    "\n",
    "\n",
    "\n"
   ]
  },
  {
   "cell_type": "code",
   "execution_count": 25,
   "id": "877dc487-2efc-4a47-a2d8-1eec918a7f58",
   "metadata": {},
   "outputs": [],
   "source": [
    "model = joblib.load(\"model.pkl\")"
   ]
  },
  {
   "cell_type": "code",
   "execution_count": 26,
   "id": "31518fd2-ed78-4d7f-8a8d-ea5095c9ef6b",
   "metadata": {},
   "outputs": [],
   "source": [
    "from app import PredictionRequest\n",
    "\n",
    "\n",
    "def predict(request: PredictionRequest):\n",
    "    input_data = pd.DataFrame([request.features])"
   ]
  },
  {
   "cell_type": "code",
   "execution_count": 27,
   "id": "2b14dc7f-9d98-4f9d-83bd-d24b9932acca",
   "metadata": {},
   "outputs": [],
   "source": [
    "from typing import TYPE_CHECKING\n",
    "if TYPE_CHECKING:\n",
    "    from app import PredictionRequest\n"
   ]
  },
  {
   "cell_type": "code",
   "execution_count": 28,
   "id": "3626379b-1083-48b8-bedb-f6aa33ba6fb0",
   "metadata": {},
   "outputs": [],
   "source": [
    "data = pd.read_csv('election.csv')"
   ]
  },
  {
   "cell_type": "code",
   "execution_count": 29,
   "id": "1f423e41-eaa2-42af-82e1-e44f2574c636",
   "metadata": {},
   "outputs": [
    {
     "name": "stdout",
     "output_type": "stream",
     "text": [
      "           STATE CONSTITUENCY                   NAME  WINNER PARTY SYMBOL  \\\n",
      "0      Telangana     ADILABAD         SOYAM BAPU RAO       1   BJP  Lotus   \n",
      "1      Telangana     ADILABAD           Godam Nagesh       0   TRS    Car   \n",
      "2      Telangana     ADILABAD          RATHOD RAMESH       0   INC   Hand   \n",
      "3      Telangana     ADILABAD                   NOTA       0  NOTA    NaN   \n",
      "4  Uttar Pradesh         AGRA  Satyapal Singh Baghel       1   BJP  Lotus   \n",
      "\n",
      "  GENDER CRIMINAL\\nCASES   AGE CATEGORY      EDUCATION  \\\n",
      "0   MALE              52  52.0       ST      12th Pass   \n",
      "1   MALE               0  54.0       ST  Post Graduate   \n",
      "2   MALE               3  52.0       ST      12th Pass   \n",
      "3    NaN             NaN   NaN      NaN            NaN   \n",
      "4   MALE               5  58.0       SC      Doctorate   \n",
      "\n",
      "                        ASSETS                  LIABILITIES  GENERAL\\nVOTES  \\\n",
      "0    Rs 30,99,414\\n ~ 30 Lacs+      Rs 2,31,450\\n ~ 2 Lacs+          376892   \n",
      "1  Rs 1,84,77,888\\n ~ 1 Crore+      Rs 8,47,000\\n ~ 8 Lacs+          318665   \n",
      "2  Rs 3,64,91,000\\n ~ 3 Crore+  Rs 1,53,00,000\\n ~ 1 Crore+          314057   \n",
      "3                          NaN                          NaN           13030   \n",
      "4  Rs 7,42,74,036\\n ~ 7 Crore+    Rs 86,06,522\\n ~ 86 Lacs+          644459   \n",
      "\n",
      "   POSTAL\\nVOTES  TOTAL\\nVOTES  OVER TOTAL ELECTORS \\nIN CONSTITUENCY  \\\n",
      "0            482        377374                              25.330684   \n",
      "1            149        318814                              21.399929   \n",
      "2            181        314238                              21.092771   \n",
      "3              6         13036                               0.875023   \n",
      "4           2416        646875                              33.383823   \n",
      "\n",
      "   OVER TOTAL VOTES POLLED \\nIN CONSTITUENCY  TOTAL ELECTORS  \n",
      "0                                  35.468248         1489790  \n",
      "1                                  29.964370         1489790  \n",
      "2                                  29.534285         1489790  \n",
      "3                                   1.225214         1489790  \n",
      "4                                  56.464615         1937690  \n"
     ]
    }
   ],
   "source": [
    "print(data.head())"
   ]
  },
  {
   "cell_type": "code",
   "execution_count": 30,
   "id": "0e09e738-1fad-4a5a-a46c-7c6c5f2174cd",
   "metadata": {},
   "outputs": [],
   "source": [
    "\n",
    "data = data.dropna()\n",
    "\n"
   ]
  },
  {
   "cell_type": "code",
   "execution_count": 37,
   "id": "a1d6caf6-ee18-441c-80f4-1a78669c32a3",
   "metadata": {},
   "outputs": [],
   "source": [
    "data = pd.get_dummies(data, drop_first=True)"
   ]
  },
  {
   "cell_type": "code",
   "execution_count": 38,
   "id": "30bbf969-fc13-451c-83a7-bd156b54dfba",
   "metadata": {},
   "outputs": [
    {
     "name": "stdout",
     "output_type": "stream",
     "text": [
      "Index(['WINNER', 'AGE', 'GENERAL\\nVOTES', 'POSTAL\\nVOTES', 'TOTAL\\nVOTES',\n",
      "       'OVER TOTAL ELECTORS \\nIN CONSTITUENCY',\n",
      "       'OVER TOTAL VOTES POLLED \\nIN CONSTITUENCY', 'TOTAL ELECTORS',\n",
      "       'STATE_Andhra Pradesh', 'STATE_Arunachal Pradesh',\n",
      "       ...\n",
      "       'LIABILITIES_Rs 95,91,144\\n ~ 95 Lacs+',\n",
      "       'LIABILITIES_Rs 95,94,811\\n ~ 95 Lacs+',\n",
      "       'LIABILITIES_Rs 96,21,000\\n ~ 96 Lacs+',\n",
      "       'LIABILITIES_Rs 97,00,000\\n ~ 97 Lacs+',\n",
      "       'LIABILITIES_Rs 97,503\\n ~ 97 Thou+',\n",
      "       'LIABILITIES_Rs 97,731\\n ~ 97 Thou+',\n",
      "       'LIABILITIES_Rs 97,98,283\\n ~ 97 Lacs+',\n",
      "       'LIABILITIES_Rs 98,84,000\\n ~ 98 Lacs+',\n",
      "       'LIABILITIES_Rs 98,87,013\\n ~ 98 Lacs+',\n",
      "       'LIABILITIES_Rs 99,69,514\\n ~ 99 Lacs+'],\n",
      "      dtype='object', length=6095)\n"
     ]
    }
   ],
   "source": [
    "print(data.columns)"
   ]
  },
  {
   "cell_type": "code",
   "execution_count": 33,
   "id": "ced54003-dbf7-4d61-9fe4-b465ceb642e6",
   "metadata": {},
   "outputs": [
    {
     "name": "stdout",
     "output_type": "stream",
     "text": [
      "   WINNER   AGE  GENERAL\\nVOTES  POSTAL\\nVOTES  TOTAL\\nVOTES  \\\n",
      "0       1  52.0          376892            482        377374   \n",
      "1       0  54.0          318665            149        318814   \n",
      "2       0  52.0          314057            181        314238   \n",
      "4       1  58.0          644459           2416        646875   \n",
      "5       0  47.0          434199           1130        435329   \n",
      "\n",
      "   OVER TOTAL ELECTORS \\nIN CONSTITUENCY  \\\n",
      "0                              25.330684   \n",
      "1                              21.399929   \n",
      "2                              21.092771   \n",
      "4                              33.383823   \n",
      "5                              22.466390   \n",
      "\n",
      "   OVER TOTAL VOTES POLLED \\nIN CONSTITUENCY  TOTAL ELECTORS  \\\n",
      "0                                  35.468248         1489790   \n",
      "1                                  29.964370         1489790   \n",
      "2                                  29.534285         1489790   \n",
      "4                                  56.464615         1937690   \n",
      "5                                  37.999125         1937690   \n",
      "\n",
      "   STATE_Andhra Pradesh  STATE_Arunachal Pradesh  ...  \\\n",
      "0                 False                    False  ...   \n",
      "1                 False                    False  ...   \n",
      "2                 False                    False  ...   \n",
      "4                 False                    False  ...   \n",
      "5                 False                    False  ...   \n",
      "\n",
      "   LIABILITIES_Rs 95,91,144\\n ~ 95 Lacs+  \\\n",
      "0                                  False   \n",
      "1                                  False   \n",
      "2                                  False   \n",
      "4                                  False   \n",
      "5                                  False   \n",
      "\n",
      "   LIABILITIES_Rs 95,94,811\\n ~ 95 Lacs+  \\\n",
      "0                                  False   \n",
      "1                                  False   \n",
      "2                                  False   \n",
      "4                                  False   \n",
      "5                                  False   \n",
      "\n",
      "   LIABILITIES_Rs 96,21,000\\n ~ 96 Lacs+  \\\n",
      "0                                  False   \n",
      "1                                  False   \n",
      "2                                  False   \n",
      "4                                  False   \n",
      "5                                  False   \n",
      "\n",
      "   LIABILITIES_Rs 97,00,000\\n ~ 97 Lacs+  LIABILITIES_Rs 97,503\\n ~ 97 Thou+  \\\n",
      "0                                  False                               False   \n",
      "1                                  False                               False   \n",
      "2                                  False                               False   \n",
      "4                                  False                               False   \n",
      "5                                  False                               False   \n",
      "\n",
      "   LIABILITIES_Rs 97,731\\n ~ 97 Thou+  LIABILITIES_Rs 97,98,283\\n ~ 97 Lacs+  \\\n",
      "0                               False                                  False   \n",
      "1                               False                                  False   \n",
      "2                               False                                  False   \n",
      "4                               False                                  False   \n",
      "5                               False                                  False   \n",
      "\n",
      "   LIABILITIES_Rs 98,84,000\\n ~ 98 Lacs+  \\\n",
      "0                                  False   \n",
      "1                                  False   \n",
      "2                                  False   \n",
      "4                                  False   \n",
      "5                                  False   \n",
      "\n",
      "   LIABILITIES_Rs 98,87,013\\n ~ 98 Lacs+  \\\n",
      "0                                  False   \n",
      "1                                  False   \n",
      "2                                  False   \n",
      "4                                  False   \n",
      "5                                  False   \n",
      "\n",
      "   LIABILITIES_Rs 99,69,514\\n ~ 99 Lacs+  \n",
      "0                                  False  \n",
      "1                                  False  \n",
      "2                                  False  \n",
      "4                                  False  \n",
      "5                                  False  \n",
      "\n",
      "[5 rows x 6095 columns]\n"
     ]
    }
   ],
   "source": [
    "print(data.head())"
   ]
  },
  {
   "cell_type": "code",
   "execution_count": 35,
   "id": "c704f8c9-b1ba-4a37-bbfc-f808ab44cdf8",
   "metadata": {},
   "outputs": [],
   "source": [
    "X = data.drop('WINNER', axis=1)\n",
    "y = data['WINNER']"
   ]
  },
  {
   "cell_type": "code",
   "execution_count": 39,
   "id": "ac87055f-bb40-4313-9b13-5a09014a3795",
   "metadata": {},
   "outputs": [
    {
     "name": "stdout",
     "output_type": "stream",
     "text": [
      "Dataset split successful!\n"
     ]
    }
   ],
   "source": [
    "X_train, X_test, y_train, y_test = train_test_split(X, y, test_size=0.3, random_state=42)\n",
    "print(\"Dataset split successful!\")"
   ]
  },
  {
   "cell_type": "code",
   "execution_count": 40,
   "id": "054ee4a0-a119-49e8-9c15-f93f90027f56",
   "metadata": {},
   "outputs": [
    {
     "name": "stdout",
     "output_type": "stream",
     "text": [
      "RandomForestClassifier(random_state=42)\n"
     ]
    }
   ],
   "source": [
    "rf_classifier = RandomForestClassifier(n_estimators=100, random_state=42)\n",
    "rf_classifier.fit(X_train, y_train)\n",
    "print(rf_classifier)\n"
   ]
  },
  {
   "cell_type": "code",
   "execution_count": 42,
   "id": "371310db-456d-4dc0-967b-2c0d10e45e9e",
   "metadata": {},
   "outputs": [],
   "source": [
    "y_pred = rf_classifier.predict(X_test)"
   ]
  },
  {
   "cell_type": "code",
   "execution_count": 43,
   "id": "213f4436-21a1-41f3-87a4-9b9ad666058f",
   "metadata": {},
   "outputs": [
    {
     "name": "stdout",
     "output_type": "stream",
     "text": [
      "Accuracy: 0.9422442244224423\n",
      "Confusion Matrix:\n",
      "[[426  16]\n",
      " [ 19 145]]\n",
      "Classification Report:\n",
      "              precision    recall  f1-score   support\n",
      "\n",
      "           0       0.96      0.96      0.96       442\n",
      "           1       0.90      0.88      0.89       164\n",
      "\n",
      "    accuracy                           0.94       606\n",
      "   macro avg       0.93      0.92      0.93       606\n",
      "weighted avg       0.94      0.94      0.94       606\n",
      "\n"
     ]
    }
   ],
   "source": [
    "accuracy = accuracy_score(y_test, y_pred)\n",
    "print(f'Accuracy: {accuracy}')\n",
    "conf_matrix = confusion_matrix(y_test, y_pred)\n",
    "print(f'Confusion Matrix:\\n{conf_matrix}')\n",
    "\n",
    "class_report = classification_report(y_test, y_pred)\n",
    "print(f'Classification Report:\\n{class_report}')"
   ]
  },
  {
   "cell_type": "code",
   "execution_count": 44,
   "id": "c2e69670-ac16-4ed1-8264-c987dd80e08b",
   "metadata": {},
   "outputs": [
    {
     "data": {
      "image/png": "[encoded data removed]",
      "text/plain": [
       "<Figure size 1000x600 with 2 Axes>"
      ]
     },
     "metadata": {},
     "output_type": "display_data"
    }
   ],
   "source": [
    "plt.figure(figsize=(10, 6))\n",
    "sns.heatmap(conf_matrix, annot=True, fmt='d', cmap='Blues', xticklabels=np.unique(y), yticklabels=np.unique(y))\n",
    "plt.xlabel('Predicted')\n",
    "plt.ylabel('Actual')\n",
    "plt.title('Confusion Matrix')\n",
    "plt.show()"
   ]
  },
  {
   "cell_type": "code",
   "execution_count": 3,
   "id": "216db4e5-035d-43c8-bd23-f3d7cab8338f",
   "metadata": {},
   "outputs": [
    {
     "name": "stdout",
     "output_type": "stream",
     "text": [
      "Model loaded successfully\n"
     ]
    },
    {
     "name": "stderr",
     "output_type": "stream",
     "text": [
      "C:\\Users\\DELL\\anaconda3\\Lib\\site-packages\\sklearn\\base.py:376: InconsistentVersionWarning: Trying to unpickle estimator DecisionTreeClassifier from version 1.6.1 when using version 1.5.1. This might lead to breaking code or invalid results. Use at your own risk. For more info please refer to:\n",
      "https://scikit-learn.org/stable/model_persistence.html#security-maintainability-limitations\n",
      "  warnings.warn(\n",
      "C:\\Users\\DELL\\anaconda3\\Lib\\site-packages\\sklearn\\base.py:376: InconsistentVersionWarning: Trying to unpickle estimator RandomForestClassifier from version 1.6.1 when using version 1.5.1. This might lead to breaking code or invalid results. Use at your own risk. For more info please refer to:\n",
      "https://scikit-learn.org/stable/model_persistence.html#security-maintainability-limitations\n",
      "  warnings.warn(\n"
     ]
    }
   ],
   "source": [
    "import joblib\n",
    "\n",
    "try:\n",
    "    model = joblib.load(\"model.pkl\")\n",
    "    print(\"Model loaded successfully\")\n",
    "except Exception as e:\n",
    "    print(f\"Failed to load model: {str(e)}\")\n"
   ]
  },
  {
   "cell_type": "code",
   "execution_count": 45,
   "id": "f612abf8-82e5-4bd0-8350-9791b5ad21a4",
   "metadata": {},
   "outputs": [],
   "source": [
    "def preprocess_input(data):\n",
    "    df = pd.DataFrame([data])\n",
    "\n",
    "    # Example: One-hot encode categorical features\n",
    "    categorical_features = [\"state\", \"constituency\", \"category\", \"education\", \"gender\"]\n",
    "    df = pd.get_dummies(df, columns=categorical_features)\n",
    "\n",
    "    # Example: Bin numerical features (e.g., assets, liabilities)\n",
    "    if \"assets\" in df.columns:\n",
    "        df[\"assets_bin\"] = pd.cut(\n",
    "            df[\"assets\"].str.extract(r\"Rs (\\d+,\\d+,\\d+)\")[0].str.replace(\",\", \"\").astype(float),\n",
    "            bins=[0, 1000000, 10000000, float(\"inf\")],\n",
    "            labels=[\"< 1 Lac\", \"1 Lac - 1 Crore\", \"> 1 Crore\"]\n",
    "        )\n",
    "        df = pd.get_dummies(df, columns=[\"assets_bin\"])\n",
    "\n",
    "    # Example: Scale numerical features (e.g., age, criminal_cases)\n",
    "    scaler = StandardScaler()\n",
    "    numerical_features = [\"age\", \"criminal_cases\"]\n",
    "    df[numerical_features] = scaler.fit_transform(df[numerical_features])\n",
    "\n",
    "    # Ensure all expected features are present\n",
    "    expected_features = model.feature_names_in_  # Use this if your model has feature names\n",
    "    for feature in expected_features:\n",
    "        if feature not in df.columns:\n",
    "            df[feature] = 0  # Add missing features with default value 0\n",
    "\n",
    "    return df"
   ]
  },
  {
   "cell_type": "code",
   "execution_count": null,
   "id": "933fce7d-825e-4c0c-9fc1-242d0c961746",
   "metadata": {},
   "outputs": [],
   "source": []
  },
  {
   "cell_type": "code",
   "execution_count": null,
   "id": "2509de9b-bc0c-4d8d-9b1e-83c76dc5e9ac",
   "metadata": {},
   "outputs": [],
   "source": []
  }
 ],
 "metadata": {
  "kernelspec": {
   "display_name": "Python 3",
   "language": "python",
   "name": "python3"
  },
  "language_info": {
   "codemirror_mode": {
    "name": "ipython",
    "version": 3
   },
   "file_extension": ".py",
   "mimetype": "text/x-python",
   "name": "python",
   "nbconvert_exporter": "python",
   "pygments_lexer": "ipython3",
   "version": "3.13.1"
  }
 },
 "nbformat": 4,
 "nbformat_minor": 5
}
